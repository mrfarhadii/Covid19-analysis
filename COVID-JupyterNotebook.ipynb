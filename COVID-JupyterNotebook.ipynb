{
 "cells": [
  {
   "cell_type": "markdown",
   "id": "76448016",
   "metadata": {},
   "source": [
    "# فراخوانی کتابخانه ها"
   ]
  },
  {
   "cell_type": "code",
   "execution_count": null,
   "id": "4f51e228",
   "metadata": {},
   "outputs": [],
   "source": [
    "import numpy as np\n",
    "import pandas as pd\n",
    "from sklearn.linear_model import LinearRegression\n",
    "import seaborn as sns\n",
    "import matplotlib.pyplot as plt\n",
    "import arabic_reshaper\n",
    "import bidi.algorithm\n",
    "def text_fa(x):\n",
    "    x = arabic_reshaper.reshape(x)\n",
    "    x = bidi.algorithm.get_display(x)\n",
    "    return x\n",
    "font = {'family' : 'B Nazanin', 'size' :15}\n",
    "plt.rc('font', **font)"
   ]
  },
  {
   "cell_type": "markdown",
   "id": "03064eef",
   "metadata": {},
   "source": [
    "==============================================================="
   ]
  },
  {
   "cell_type": "markdown",
   "id": "7b6b7d0c",
   "metadata": {},
   "source": [
    "#  سوال 1"
   ]
  },
  {
   "cell_type": "code",
   "execution_count": null,
   "id": "6ae6e3b8",
   "metadata": {},
   "outputs": [],
   "source": [
    "df = pd.read_csv(r'C:\\Users\\Red Pc\\Desktop\\COURSE\\پروژه\\iranprovs_mortality_monthly.csv')"
   ]
  },
  {
   "cell_type": "markdown",
   "id": "ff34681d",
   "metadata": {},
   "source": [
    "## گروه بندی داده ها"
   ]
  },
  {
   "cell_type": "code",
   "execution_count": null,
   "id": "8b5cf811",
   "metadata": {},
   "outputs": [],
   "source": [
    "data_frame_grouped = df.groupby(['y','m','prov']).agg({'n':'sum'})\n",
    "data_frame_grouped = data_frame_grouped.reset_index()"
   ]
  },
  {
   "cell_type": "markdown",
   "id": "e30805ce",
   "metadata": {},
   "source": [
    "## ایجاد دسترسی به داده ها از طریق زمان"
   ]
  },
  {
   "cell_type": "code",
   "execution_count": null,
   "id": "39cb859d",
   "metadata": {},
   "outputs": [],
   "source": [
    "data_frame_grouped['ym'] = data_frame_grouped['y'] + data_frame_grouped['m']/12 - 1/24\n",
    "ym_covid = 1398 + 10/12 - 1/24\n",
    "data_frame_grouped = data_frame_grouped[data_frame_grouped.y >= ym_covid - 5]"
   ]
  },
  {
   "cell_type": "markdown",
   "id": "32fb13f6",
   "metadata": {},
   "source": [
    "## ایجاد دیتا فریم جدید برای اضافه کردن داده های پیش بینی و فوت اضافه"
   ]
  },
  {
   "cell_type": "code",
   "execution_count": null,
   "id": "18e07544",
   "metadata": {},
   "outputs": [],
   "source": [
    "main_dataframe = pd.DataFrame(columns=data_frame_grouped.columns)\n",
    "main_dataframe['n_predected'] = None\n",
    "main_dataframe['n_excess'] = None\n",
    "main_dataframe['excess_ratio'] = None"
   ]
  },
  {
   "cell_type": "markdown",
   "id": "06af4e31",
   "metadata": {},
   "source": [
    "## بدست آوردن پیش بینی و آمار فوت اضافه"
   ]
  },
  {
   "cell_type": "code",
   "execution_count": null,
   "id": "02d997fb",
   "metadata": {},
   "outputs": [],
   "source": [
    "for i in data_frame_grouped.prov.unique():\n",
    "    for j in range(1,13):\n",
    "        dsmp = data_frame_grouped[np.logical_and(data_frame_grouped.prov == i , data_frame_grouped.m == j)]\n",
    "        dsmp_modeling = dsmp[dsmp.ym < ym_covid]\n",
    "        linereg = LinearRegression()\n",
    "        linereg.fit(dsmp_modeling[['y']],dsmp_modeling[['n']])\n",
    "        dsmp['n_predected'] = linereg.predict(dsmp[['y']])\n",
    "        dsmp['n_excess'] = dsmp.n - dsmp.n_predected\n",
    "        dsmp['excess_ratio'] = dsmp.n_excess / dsmp.n_predected\n",
    "        # if j == 6:\n",
    "        #     plt.clf()\n",
    "        #     plt.figure(figsize=(14, 10))\n",
    "        #     dsmp = df[np.logical_and(df.prov == i, df.m == 6)]\n",
    "        #     DSMP = dsmp[dsmp.ym >= ym_covid]\n",
    "        #     plt.scatter(dsmp.ym, dsmp.n, label=text_fa('مرگ و میر پیش از کرونا'))\n",
    "        #     plt.scatter(DSMP.ym, DSMP.n, color='darkblue', s=65, label=text_fa('مرگ و میر پس از کرونا'))\n",
    "        #     plt.plot([DSMP.ym, DSMP.ym], [DSMP.n, DSMP.n_predected], color='darkblue', linestyle='--', alpha=.5)\n",
    "        #     plt.plot(dsmp.ym, dsmp.n_predected, label=text_fa('پیش بینی آمار فوت'))\n",
    "        #     plt.axvline(ym_covid, linewidth=2, linestyle=\"--\", color='darkred', alpha=0.75, label=text_fa('زمان کرونا'))\n",
    "        #     plt.title(text_fa(i))\n",
    "        #     plt.xlabel(text_fa('سال'))\n",
    "        #     plt.ylabel(text_fa('مرگ و میر'))\n",
    "        #     plt.legend(fontsize='small')\n",
    "        #     plt.show()\n",
    "        main_dataframe = pd.concat([main_dataframe,dsmp],axis = 0)"
   ]
  },
  {
   "cell_type": "markdown",
   "id": "39f73599",
   "metadata": {},
   "source": [
    "## جداسازی آمار کرونا"
   ]
  },
  {
   "cell_type": "code",
   "execution_count": null,
   "id": "fb0063e8",
   "metadata": {},
   "outputs": [],
   "source": [
    "ds_covid = main_dataframe.ym\n",
    "ds_covid = main_dataframe[ds_covid > ym_covid]"
   ]
  },
  {
   "cell_type": "markdown",
   "id": "54fce68d",
   "metadata": {},
   "source": [
    "## رسم نقشه ی حرارتی"
   ]
  },
  {
   "cell_type": "code",
   "execution_count": null,
   "id": "82532dac",
   "metadata": {},
   "outputs": [],
   "source": [
    "pivot_data = ds_covid.pivot(index='prov', columns= 'ym', values= 'excess_ratio')\n",
    "fig, ax = plt.subplots(figsize=(21,15))\n",
    "# Add title to the Heat map\n",
    "title = text_fa(\"نقشه حرارتی شدت و ضعف کرونا در هر استان در هر ماه\")\n",
    "# Set the font size and the distance of the title from the plot\n",
    "plt.title(title,fontsize=15)\n",
    "ttl = ax.title\n",
    "ttl.set_position([0.5,1.05])"
   ]
  },
  {
   "cell_type": "markdown",
   "id": "585cfbe6",
   "metadata": {},
   "source": [
    "## تبدیل تاریخ"
   ]
  },
  {
   "cell_type": "code",
   "execution_count": null,
   "id": "b2c636b5",
   "metadata": {},
   "outputs": [],
   "source": [
    "ym = pivot_data.columns\n",
    "y = np.int64(ym)\n",
    "m = np.int64(np.round((ym + 1/24 - y)*12))\n",
    "pivot_data.columns = [text_fa(str(y[i])) + '/' + text_fa(str(m[i])) for i in range(len(ym))]"
   ]
  },
  {
   "cell_type": "markdown",
   "id": "91c4c5d6",
   "metadata": {},
   "source": [
    "## تبدیل فونت فارسی"
   ]
  },
  {
   "cell_type": "code",
   "execution_count": null,
   "id": "949306b3",
   "metadata": {},
   "outputs": [],
   "source": [
    "x =list(pivot_data.index)\n",
    "for i in range(len(x)):\n",
    "    x[i] = text_fa(x[i])\n",
    "pivot_data.index = x"
   ]
  },
  {
   "cell_type": "markdown",
   "id": "4c7aac11",
   "metadata": {},
   "source": [
    "## Heatmap"
   ]
  },
  {
   "cell_type": "code",
   "execution_count": null,
   "id": "39acd1d8",
   "metadata": {},
   "outputs": [],
   "source": [
    "sns.heatmap(pivot_data,yticklabels =True, xticklabels = True ,annot=pivot_data,fmt=\".1f\",ax=ax ,annot_kws={'size': 6,'color':'black'},cmap=sns.cubehelix_palette(start=.5, rot=-.5,light=1.2, as_cmap=True),vmin=-.5, vmax=2.5,center=0,cbar_kws={'label': text_fa('نرخ فوت اضافه')})\n",
    "ax.set(xlabel=\"\", ylabel=\"\")\n",
    "plt.show()"
   ]
  },
  {
   "cell_type": "markdown",
   "id": "b74fabab",
   "metadata": {},
   "source": [
    "# سوال 4"
   ]
  },
  {
   "cell_type": "code",
   "execution_count": null,
   "id": "2d520fb6",
   "metadata": {},
   "outputs": [],
   "source": [
    "\n",
    "ds = df.groupby(['y','m','prov','age_group']).agg({'n':'sum'})\n",
    "ds = ds.reset_index()\n",
    "ds_prov = ds[(ds['age_group'] == '70-74') | (ds['age_group'] == '75-79')]\n",
    "ds_prov = ds_prov.groupby(['y','m','prov']).agg({'n':'sum'})\n",
    "ds_prov = ds_prov.reset_index()\n",
    "\n",
    "ds_prov['ym'] = ds_prov['y'] + ds_prov['m']/12 - 1/24\n",
    "ym_covid = 1398 + 10/12 - 1/24\n",
    "ds_prov = ds_prov[ds_prov.y >= ym_covid - 5]\n",
    "\n",
    "\n",
    "Ds = pd.DataFrame(columns=ds.columns)\n",
    "Ds['n_predected'] = None\n",
    "Ds['n_excess'] = None\n",
    "Ds['excess_ratio'] = None\n",
    "\n",
    "\n",
    "\n",
    "for i in ds_prov.prov.unique():\n",
    "    for j in range(1,13):\n",
    "        dsmp = ds_prov[np.logical_and(ds_prov.prov == i , ds_prov.m == j)]\n",
    "        dsmp_modeling = dsmp[dsmp.ym < ym_covid]\n",
    "        linereg = LinearRegression()\n",
    "        linereg.fit(dsmp_modeling[['y']],dsmp_modeling[['n']])\n",
    "        dsmp['n_predected'] = linereg.predict(dsmp[['y']])\n",
    "        dsmp['n_excess'] = dsmp.n - dsmp.n_predected\n",
    "        dsmp['excess_ratio'] = dsmp.n_excess / dsmp.n_predected\n",
    "        Ds = pd.concat([Ds,dsmp],axis = 0)\n",
    "\n",
    "ds_covid = Ds.ym\n",
    "ds_covid = Ds[ds_covid > ym_covid]"
   ]
  },
  {
   "cell_type": "markdown",
   "id": "cbf2de13",
   "metadata": {},
   "source": [
    "## میانگین گیری از داده های رده سنی 70 تا 80 سال"
   ]
  },
  {
   "cell_type": "code",
   "execution_count": null,
   "id": "42731aea",
   "metadata": {},
   "outputs": [],
   "source": [
    "evaluate_prov = ds_covid.groupby('prov')['excess_ratio'].mean()\n",
    "evaluate_prov = pd.DataFrame(evaluate_prov)\n",
    "evaluate_prov.reset_index()\n",
    "mean_excess_ratio= float(evaluate_prov.mean())\n",
    "x =list(evaluate_prov.index)\n",
    "for i in range(len(x)):\n",
    "    x[i] = text_fa(x[i])\n",
    "evaluate_prov.index = x"
   ]
  },
  {
   "cell_type": "markdown",
   "id": "08391e51",
   "metadata": {},
   "source": [
    "## رسم نمودار پراکندگی برای استانها"
   ]
  },
  {
   "cell_type": "code",
   "execution_count": null,
   "id": "3fa37c2a",
   "metadata": {},
   "outputs": [],
   "source": [
    "evaluate_prov.sort_values('excess_ratio', ascending=True, inplace=True)\n",
    "# evaluate_prov.to_excel('evaluate_prov.xlsx')\n",
    "fig, ax =plt.subplots(figsize =(14,18))\n",
    "title = text_fa(\"پراکندگی نرخ فوت اضافه برای استانها (سنین مشابه 70 تا 80 سال)\")\n",
    "plt.title(title,fontsize=20)\n",
    "ttl = ax.title\n",
    "ttl.set_position([0.5,1.05])\n",
    "plt.scatter(evaluate_prov.index,evaluate_prov,s = 80,c='darkblue',label =text_fa('میانگین نرخ فوت اضافه هر استان سنین 70 تا 80'),alpha=.8)\n",
    "plt.xticks(rotation = 90)\n",
    "plt.axhline(y = mean_excess_ratio,c = 'royalblue', alpha = .8, linestyle = '--',label =text_fa('میانگین نرخ فوت اضافه استانها'))\n",
    "ax.set(xlabel=\"\", ylabel=text_fa(\"نرخ فوت اضافه سنین 70 تا 80 سال\"))\n",
    "plt.legend()\n",
    "plt.show()"
   ]
  },
  {
   "cell_type": "markdown",
   "id": "0ef08790",
   "metadata": {},
   "source": [
    "## رسم نمودار هیستوگرام و توزیع نرمال"
   ]
  },
  {
   "cell_type": "code",
   "execution_count": null,
   "id": "39475e54",
   "metadata": {},
   "outputs": [],
   "source": [
    "from scipy.stats import norm\n",
    "fig, ax =plt.subplots(figsize =(15,15))\n",
    "title = text_fa(\"نمودار هیستوگرام نرخ فوت اضافه برای استانها (سنین مشابه 70 تا 80 سال)\")\n",
    "plt.title(title,fontsize=20,fontweight = \"bold\")\n",
    "ttl = ax.title\n",
    "ttl.set_position([0.5,1.05])\n",
    "mu, std = norm.fit(evaluate_prov)\n",
    "plt.hist(evaluate_prov,bins=10,density=True,color ='darkblue',alpha = .6)\n",
    "xmin, xmax = plt.xlim()\n",
    "x = np.linspace(xmin, xmax, 100)\n",
    "p = norm.pdf(x, mu, std)\n",
    "plt.plot(x, p, '--', linewidth=5,color ='black')\n",
    "plt.show()"
   ]
  },
  {
   "cell_type": "markdown",
   "id": "7b8e3e7a",
   "metadata": {},
   "source": [
    "## تست داده ها برای اینکه از توزیع نرمال پیروی می کنند"
   ]
  },
  {
   "cell_type": "code",
   "execution_count": null,
   "id": "2d29ff6e",
   "metadata": {},
   "outputs": [],
   "source": [
    "from scipy.stats import shapiro\n",
    "# Perform Shapiro-Wilk test\n",
    "stat, p = shapiro(evaluate_prov)\n",
    "print(f'Statistic: {stat}, p-value: {p}')\n",
    "\n",
    "if p > 0.05:\n",
    "    print(\"Data follows a normal distribution\")\n",
    "else:\n",
    "    print(\"Data does not follow a normal distribution\")"
   ]
  },
  {
   "cell_type": "markdown",
   "id": "dfe54cbc",
   "metadata": {},
   "source": [
    "## بررسی استانهایی که از توزیع نرمال پیروی نمی کنند"
   ]
  },
  {
   "cell_type": "code",
   "execution_count": null,
   "id": "5f73661c",
   "metadata": {},
   "outputs": [],
   "source": [
    "from scipy.stats import norm\n",
    "# Parameters of the normal distribution (mean and standard deviation)\n",
    "mean = 0\n",
    "std_dev = 1\n",
    "# Confidence level for the interval\n",
    "confidence_level = 0.95\n",
    "# Calculate the critical values for the confidence interval\n",
    "lower_critical_value = norm.ppf((1 - confidence_level) / 2, loc=mean, scale=std_dev)\n",
    "upper_critical_value = norm.ppf(1 - (1 - confidence_level) / 2, loc=mean, scale=std_dev)\n",
    "# Initialize a list to store rows of data points outside the curve\n",
    "outside_rows = []\n",
    "# Loop through each row in the DataFrame\n",
    "for index, row in evaluate_prov.iterrows():\n",
    "    data_point = row['excess_ratio']\n",
    "    if data_point < lower_critical_value or data_point > upper_critical_value:\n",
    "        outside_rows.append(row)"
   ]
  },
  {
   "cell_type": "markdown",
   "id": "72fb9d0a",
   "metadata": {},
   "source": [
    "## Create a new DataFrame from the list of outside rows"
   ]
  },
  {
   "cell_type": "code",
   "execution_count": null,
   "id": "c0a89810",
   "metadata": {},
   "outputs": [],
   "source": [
    "outside_df = pd.DataFrame(outside_rows)"
   ]
  },
  {
   "cell_type": "markdown",
   "id": "acf433a1",
   "metadata": {},
   "source": [
    "## Print the DataFrame containing data points outside the curve"
   ]
  },
  {
   "cell_type": "code",
   "execution_count": null,
   "id": "0e3a311e",
   "metadata": {},
   "outputs": [],
   "source": [
    "print(\"Data points outside the curve of the distribution:\")"
   ]
  }
 ],
 "metadata": {
  "kernelspec": {
   "display_name": "Python 3 (ipykernel)",
   "language": "python",
   "name": "python3"
  },
  "language_info": {
   "codemirror_mode": {
    "name": "ipython",
    "version": 3
   },
   "file_extension": ".py",
   "mimetype": "text/x-python",
   "name": "python",
   "nbconvert_exporter": "python",
   "pygments_lexer": "ipython3",
   "version": "3.9.12"
  }
 },
 "nbformat": 4,
 "nbformat_minor": 5
}
